{
 "cells": [
  {
   "cell_type": "markdown",
   "id": "44615016",
   "metadata": {},
   "source": [
    "# Libraries"
   ]
  },
  {
   "cell_type": "code",
   "execution_count": 1,
   "id": "39805e15",
   "metadata": {},
   "outputs": [],
   "source": [
    "# Imports \n",
    "import os, glob, math\n",
    "import numpy as np\n",
    "from typing import Tuple, List\n",
    "\n",
    "import torch, torchvision\n",
    "from torch import nn\n",
    "from torchvision import models, transforms\n",
    "\n",
    "import pydicom\n",
    "from pydicom.pixel_data_handlers.util import apply_voi_lut\n",
    "from skimage import io, exposure"
   ]
  },
  {
   "cell_type": "markdown",
   "id": "9683cea3",
   "metadata": {},
   "source": [
    "# 📝 Constants, Helpers, Model & Prediction Setup"
   ]
  },
  {
   "cell_type": "markdown",
   "id": "b7bf6aa2",
   "metadata": {},
   "source": [
    "### This block defines constants, helper functions, model loading, and prediction utilities for the X-ray classification workflow."
   ]
  },
  {
   "cell_type": "code",
   "execution_count": 2,
   "id": "dd417a08",
   "metadata": {},
   "outputs": [],
   "source": [
    "# --- Constants ---\n",
    "ROOT = r\"D:\\\\MedicalAI-Assistant\"\n",
    "ART_DIR = os.path.join(ROOT, 'artifacts')\n",
    "os.makedirs(ART_DIR, exist_ok=True)\n",
    "\n",
    "DEVICE = 'cuda' if torch.cuda.is_available() else 'cpu'\n",
    "CLASS_NAMES = [\"NORMAL\", \"PNEUMONIA\"]\n",
    "\n",
    "# --- Helpers ---\n",
    "def read_cxr_u8(path: str)-> np.ndarray:\n",
    "    \"\"\"Return uint8 grayscale image. Trims borders slightly to remove rulers/markers.\"\"\"\n",
    "    ext = os.path.splitext(path)[-1].lower()\n",
    "    if ext in {'.dcm', '.dicom'}:\n",
    "        d = pydicom.dcmread(path)\n",
    "        pix = d.pixel_array.astype(np.float32)\n",
    "        try:\n",
    "            pix = apply_voi_lut(pix, d).astype(np.float32)\n",
    "        except Exception:\n",
    "            pass\n",
    "        slope = float(getattr(d, 'RescaleSlope', 1.0))\n",
    "        inter = float(getattr(d, 'RescaleIntercept', 0.0))\n",
    "        pix = pix * slope + inter\n",
    "        if getattr(d, 'PhotometricInterpretation', '').upper() == 'MONOCHROME1':\n",
    "            pix = np.max(pix)- pix\n",
    "        pix -= pix.min()\n",
    "        pix = (pix / (pix.max() + 1e-8) * 255.0).astype(np.uint8)\n",
    "    else:\n",
    "        pix = io.imread(path)\n",
    "        if pix.ndim == 3:\n",
    "            pix = pix.mean(2)\n",
    "        if pix.dtype != np.uint8:\n",
    "            pix = exposure.rescale_intensity(pix, out_range=(0, 255)).astype(np.uint8)\n",
    "    h, w = pix.shape\n",
    "    c = int(0.02 * min(h, w))\n",
    "    if h > 2*c and w > 2*c:\n",
    "        pix = pix[c:h-c, c:w-c]\n",
    "    return pix\n",
    "\n",
    "_to_resnet = transforms.Compose([\n",
    "    transforms.ToPILImage(),\n",
    "    transforms.Resize((224, 224)),\n",
    "    transforms.ToTensor(),\n",
    "    transforms.Normalize(mean=[0.485,0.456,0.406], std=[0.229,0.224,0.225])\n",
    "])\n",
    "\n",
    "def img_to_tensor3(img_u8: np.ndarray)-> torch.Tensor:\n",
    "    if img_u8.ndim == 2:\n",
    "        img_u8 = np.stack([img_u8]*3, axis=-1)\n",
    "    return _to_resnet(img_u8)\n",
    "\n",
    "def load_resnet18(weights_path: str, num_classes=2):\n",
    "    model = models.resnet18(weights=models.ResNet18_Weights.IMAGENET1K_V1)\n",
    "    in_feats = model.fc.in_features\n",
    "    model.fc = nn.Sequential(\n",
    "        nn.Dropout(0.2),\n",
    "        nn.Linear(in_feats, num_classes)\n",
    "    )\n",
    "    sd = torch.load(weights_path, map_location=DEVICE)\n",
    "    if isinstance(sd, dict) and 'state_dict' in sd:\n",
    "        model.load_state_dict(sd['state_dict'], strict=False)\n",
    "    else:\n",
    "        model.load_state_dict(sd, strict=False)\n",
    "    model.eval().to(DEVICE)\n",
    "    return model\n",
    "\n",
    "def predict_binary(image_path: str)-> Tuple[int, float, List[float]]:\n",
    "    u8 = read_cxr_u8(image_path)\n",
    "    t1 = img_to_tensor3(u8)\n",
    "    t2 = img_to_tensor3(u8[:, ::-1].copy()) # h-flip\n",
    "    X = torch.stack([t1, t2]).to(DEVICE)\n",
    "    with torch.no_grad():\n",
    "        logits = clf(X)\n",
    "        logits = logits.mean(0, keepdim=True) # TTA average\n",
    "        logits = logits / T\n",
    "        probs = torch.softmax(logits, dim=1).cpu().numpy()[0]\n",
    "        pred = int(probs.argmax())\n",
    "    return pred, float(probs[pred]), probs.tolist()\n",
    "\n",
    "def decision_text(pred_idx: int):\n",
    "    return CLASS_NAMES[pred_idx]\n",
    "\n",
    "# --- Model & Temperature Initialization ---\n",
    "XMODEL_PATH = os.path.join(ART_DIR, 'xray_model.pth')\n",
    "clf = load_resnet18(XMODEL_PATH, num_classes=2)\n",
    "\n",
    "CAL_PATH = os.path.join(ART_DIR, 'xray_temp.pt')\n",
    "if os.path.exists(CAL_PATH):\n",
    "    T = torch.load(CAL_PATH, map_location='cpu')['T']\n",
    "else:\n",
    "    T = 1.0   # fallback if calibration file is missing\n"
   ]
  },
  {
   "cell_type": "code",
   "execution_count": 3,
   "id": "08866451",
   "metadata": {},
   "outputs": [],
   "source": [
    "def load_resnet18(weights_path: str, num_classes=2):\n",
    "    model = models.resnet18(weights=models.ResNet18_Weights.IMAGENET1K_V1)\n",
    "    in_feats = model.fc.in_features\n",
    "    model.fc = nn.Sequential(\n",
    "        nn.Dropout(0.2),\n",
    "        nn.Linear(in_feats, num_classes)\n",
    "    )\n",
    "    sd = torch.load(weights_path, map_location=DEVICE)\n",
    "    if isinstance(sd, dict) and 'state_dict' in sd:\n",
    "        model.load_state_dict(sd['state_dict'], strict=False)\n",
    "    else:\n",
    "        model.load_state_dict(sd, strict=False)\n",
    "    model.eval().to(DEVICE)\n",
    "    return model\n"
   ]
  },
  {
   "cell_type": "markdown",
   "id": "b7cff879",
   "metadata": {},
   "source": [
    "# 📝 Function: predict_binary"
   ]
  },
  {
   "cell_type": "markdown",
   "id": "e9b05ee2",
   "metadata": {},
   "source": [
    "### This function runs binary classification on a single chest X-ray image. It handles preprocessing, inference, and probability extraction."
   ]
  },
  {
   "cell_type": "code",
   "execution_count": 4,
   "id": "967baabd",
   "metadata": {},
   "outputs": [],
   "source": [
    "def predict_binary(image_path: str)-> Tuple[int, float, List[float]]:\n",
    "    u8 = read_cxr_u8(image_path)\n",
    "    t1 = img_to_tensor3(u8)\n",
    "    t2 = img_to_tensor3(u8[:, ::-1].copy()) # h-flip\n",
    "    X = torch.stack([t1, t2]).to(DEVICE)\n",
    "    with torch.no_grad():\n",
    "        logits = clf(X)\n",
    "        logits = logits.mean(0, keepdim=True) # TTA average\n",
    "        logits = logits / T\n",
    "        probs = torch.softmax(logits, dim=1).cpu().numpy()[0]\n",
    "        pred = int(probs.argmax())\n",
    "    return pred, float(probs[pred]), probs.tolist()"
   ]
  },
  {
   "cell_type": "code",
   "execution_count": 5,
   "id": "67173cdc",
   "metadata": {},
   "outputs": [],
   "source": [
    "def decision_text(pred_idx: int):\n",
    "    return CLASS_NAMES[pred_idx]"
   ]
  },
  {
   "cell_type": "markdown",
   "id": "7cbca954",
   "metadata": {},
   "source": [
    "###  Paths"
   ]
  },
  {
   "cell_type": "code",
   "execution_count": 6,
   "id": "3993112b",
   "metadata": {},
   "outputs": [],
   "source": [
    "import os, glob, torch\n",
    "from datetime import datetime\n",
    "from PIL import Image\n",
    " # Reuse helpers from notebook 1 (copy the same functions here if running standalone)\n",
    " # read_cxr_u8, img_to_tensor3, load_resnet18, predict_binary, decision_text, \n",
    "CLASS_NAMES, ART_DIR, DEVICE\n",
    "ROOT = r\"D:\\\\MedicalAI-Assistant\"\n",
    "ART_DIR = os.path.join(ROOT, 'artifacts')\n",
    "CLASS_NAMES = ['NORMAL','PNEUMONIA']"
   ]
  },
  {
   "cell_type": "markdown",
   "id": "3e6c7082",
   "metadata": {},
   "source": [
    "### Load classifier & calibrator "
   ]
  },
  {
   "cell_type": "code",
   "execution_count": 7,
   "id": "3baace84",
   "metadata": {},
   "outputs": [],
   "source": [
    "clf = load_resnet18(os.path.join(ART_DIR, 'xray_model.pth'), num_classes=2)\n",
    "CAL_PATH = os.path.join(ART_DIR, 'xray_temp.pt')\n",
    "\n",
    "if os.path.exists(CAL_PATH):\n",
    "    T = torch.load(CAL_PATH, map_location='cpu')['T']\n",
    "else:\n",
    "    T = 1.0"
   ]
  },
  {
   "cell_type": "markdown",
   "id": "7b4ba878",
   "metadata": {},
   "source": [
    "### Normal CXR report template"
   ]
  },
  {
   "cell_type": "code",
   "execution_count": 8,
   "id": "a6532423",
   "metadata": {},
   "outputs": [],
   "source": [
    "NORMAL_REPORT = (\n",
    " \"Chest X-ray (PA):\\n\"\n",
    " \"• Cardiomediastinal silhouette: Within normal limits.\\n\"\n",
    " \"• Lungs: No focal consolidation identified. No pleural effusion.\\n\"\n",
    " \"• Pneumothorax: Not seen.\\n\"\n",
    " \"• Bones/soft tissues: Unremarkable.\\n\\n\"\n",
    " \"Impression: No acute cardiopulmonary abnormality.\"\n",
    " )"
   ]
  },
  {
   "cell_type": "markdown",
   "id": "c716772f",
   "metadata": {},
   "source": [
    "### Run on one image "
   ]
  },
  {
   "cell_type": "code",
   "execution_count": 9,
   "id": "5af1a06e",
   "metadata": {},
   "outputs": [
    {
     "name": "stdout",
     "output_type": "stream",
     "text": [
      "NORMAL (confidence: 0.54)\n",
      "\n",
      "Auto-report:\n",
      "No abnormal findings detected. Normal chest X-ray.\n"
     ]
    }
   ],
   "source": [
    "val_norm = os.path.join(ROOT, 'data', 'Xray', 'val', 'NORMAL')\n",
    "img_path = sorted(glob.glob(os.path.join(val_norm, '*')))[0]\n",
    "pred_idx, conf, dist = predict_binary(img_path)\n",
    "\n",
    "def decision_text(pred_idx: int, conf: float = None):\n",
    "    label = CLASS_NAMES[pred_idx]\n",
    "    if conf is not None:\n",
    "        return f\"{label} (confidence: {conf:.2f})\"\n",
    "    return label\n",
    "\n",
    "NORMAL_REPORT = \"No abnormal findings detected. Normal chest X-ray.\"\n",
    "\n",
    "print(decision_text(pred_idx, conf))\n",
    "print(\"\\nAuto-report:\")\n",
    "print(NORMAL_REPORT if pred_idx == 0 else \"Abnormal findings suspected. Correlate clinically.\")\n"
   ]
  }
 ],
 "metadata": {
  "kernelspec": {
   "display_name": "Python 3",
   "language": "python",
   "name": "python3"
  },
  "language_info": {
   "codemirror_mode": {
    "name": "ipython",
    "version": 3
   },
   "file_extension": ".py",
   "mimetype": "text/x-python",
   "name": "python",
   "nbconvert_exporter": "python",
   "pygments_lexer": "ipython3",
   "version": "3.11.9"
  }
 },
 "nbformat": 4,
 "nbformat_minor": 5
}
