{
 "cells": [
  {
   "cell_type": "markdown",
   "id": "6ea859b5",
   "metadata": {},
   "source": [
    "# Imports & paths"
   ]
  },
  {
   "cell_type": "markdown",
   "id": "bb98f06b",
   "metadata": {},
   "source": [
    "### This block imports all the required libraries and give paths"
   ]
  },
  {
   "cell_type": "code",
   "execution_count": 1,
   "id": "f9b9897d",
   "metadata": {},
   "outputs": [
    {
     "name": "stderr",
     "output_type": "stream",
     "text": [
      "C:\\Users\\mahin\\AppData\\Local\\Packages\\PythonSoftwareFoundation.Python.3.11_qbz5n2kfra8p0\\LocalCache\\local-packages\\Python311\\site-packages\\tqdm\\auto.py:21: TqdmWarning: IProgress not found. Please update jupyter and ipywidgets. See https://ipywidgets.readthedocs.io/en/stable/user_install.html\n",
      "  from .autonotebook import tqdm as notebook_tqdm\n",
      "W0824 14:15:24.401000 8304 torch\\distributed\\elastic\\multiprocessing\\redirects.py:29] NOTE: Redirects are currently not supported in Windows or MacOs.\n"
     ]
    }
   ],
   "source": [
    "#  Imports & paths --\n",
    "import os, pandas as pd\n",
    "from transformers import AutoTokenizer, AutoModelForSeq2SeqLM, pipeline\n",
    "ROOT = r\"D:\\\\MedicalAI-Assistant\"\n",
    "DATA_DIR = os.path.join(ROOT, 'data')\n",
    "ART_DIR = os.path.join(ROOT, 'artifacts')\n",
    "os.makedirs(ART_DIR, exist_ok=True)"
   ]
  },
  {
   "cell_type": "markdown",
   "id": "ffc93d7d",
   "metadata": {},
   "source": [
    "#  Load reports CSV robustly "
   ]
  },
  {
   "cell_type": "code",
   "execution_count": 2,
   "id": "03e1bd2b",
   "metadata": {},
   "outputs": [
    {
     "name": "stdout",
     "output_type": "stream",
     "text": [
      "Loaded reports: 3931\n"
     ]
    }
   ],
   "source": [
    "csv_path = os.path.join(DATA_DIR, 'Reports.csv')\n",
    "texts = []\n",
    "if os.path.exists(csv_path):\n",
    " df = pd.read_csv(csv_path)\n",
    " # Prefer a column named like a report\n",
    " for col in ['report_text', 'Report', 'report', 'text', 'notes']:\n",
    "  if col in df.columns:\n",
    "   texts = df[col].dropna().astype(str).tolist()\n",
    "  break\n",
    " if not texts:\n",
    " # fallback: first object dtype column\n",
    "  for col in df.columns:\n",
    "   if df[col].dtype == 'object':\n",
    "    texts = df[col].dropna().astype(str).tolist()\n",
    "   break\n",
    " print('Loaded reports:', len(texts))"
   ]
  },
  {
   "cell_type": "markdown",
   "id": "90248427",
   "metadata": {},
   "source": [
    "# Build summarizer (T5-small) and test "
   ]
  },
  {
   "cell_type": "code",
   "execution_count": 3,
   "id": "284e4cf7",
   "metadata": {},
   "outputs": [
    {
     "name": "stderr",
     "output_type": "stream",
     "text": [
      "Device set to use cpu\n",
      "Your max_length is set to 120, but your input_length is only 46. Since this is a summarization task, where outputs shorter than the input are typically wanted, you might consider decreasing max_length manually, e.g. summarizer('...', max_length=23)\n",
      "Both `max_new_tokens` (=256) and `max_length`(=120) seem to have been set. `max_new_tokens` will take precedence. Please refer to the documentation for more information. (https://huggingface.co/docs/transformers/main/en/main_classes/text_generation)\n"
     ]
    },
    {
     "name": "stdout",
     "output_type": "stream",
     "text": [
      "allergy / immunology, allergic rhinitis, allergies, asthma, nasal sprays, nasal, erythematous, allegra, sprays .\n"
     ]
    }
   ],
   "source": [
    "model_name = 't5-small'\n",
    "tok = AutoTokenizer.from_pretrained(model_name)\n",
    "mod = AutoModelForSeq2SeqLM.from_pretrained(model_name)\n",
    "SUM = pipeline('summarization', model=mod, tokenizer=tok)\n",
    "\n",
    "sample = texts[0] if texts else (\n",
    " \"This is a sample clinical report describing patient symptoms and findings including fever, cough, and dyspnea.\"\n",
    ")\n",
    "\n",
    "print(SUM(sample, max_length=120, min_length=20, do_sample=False)[0]['summary_text'])"
   ]
  }
 ],
 "metadata": {
  "kernelspec": {
   "display_name": "Python 3",
   "language": "python",
   "name": "python3"
  },
  "language_info": {
   "codemirror_mode": {
    "name": "ipython",
    "version": 3
   },
   "file_extension": ".py",
   "mimetype": "text/x-python",
   "name": "python",
   "nbconvert_exporter": "python",
   "pygments_lexer": "ipython3",
   "version": "3.11.9"
  }
 },
 "nbformat": 4,
 "nbformat_minor": 5
}
