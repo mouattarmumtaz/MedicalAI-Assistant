{
 "cells": [
  {
   "cell_type": "markdown",
   "id": "87acf372",
   "metadata": {},
   "source": [
    "# XRAYs Classificaton"
   ]
  },
  {
   "cell_type": "markdown",
   "id": "2ac09cd4",
   "metadata": {},
   "source": [
    "### This block imports all the required libraries for image processing, deep learning, and evaluation.\n",
    "### It also defines file paths, ensures the artifacts directory exists, sets the compute device (CPU or GPU), and specifies the X-ray classification labels."
   ]
  },
  {
   "cell_type": "code",
   "execution_count": 9,
   "id": "a6221182",
   "metadata": {},
   "outputs": [],
   "source": [
    "# Imports & Paths \n",
    "import os, glob, json, math\n",
    "import numpy as np\n",
    "from typing import Dict, Tuple, List\n",
    "\n",
    "import torch, torchvision\n",
    "from torch import nn\n",
    "from torchvision import models, transforms\n",
    "\n",
    "import pydicom\n",
    "from pydicom.pixel_data_handlers.util import apply_voi_lut\n",
    "from skimage import io, exposure\n",
    "from sklearn.metrics import classification_report, confusion_matrix, roc_auc_score\n",
    "\n",
    "# Paths\n",
    "ROOT = r\"D:\\\\MedicalAI-Assistant\"\n",
    "DATA_DIR = os.path.join(ROOT, 'data')\n",
    "ART_DIR = os.path.join(ROOT, 'artifacts')\n",
    "os.makedirs(ART_DIR, exist_ok=True)\n",
    "\n",
    "# Device\n",
    "DEVICE = 'cuda' if torch.cuda.is_available() else 'cpu'\n",
    "\n",
    "# Classes\n",
    "CLASS_NAMES = [\"NORMAL\", \"PNEUMONIA\"]"
   ]
  },
  {
   "cell_type": "markdown",
   "id": "faf5231b",
   "metadata": {},
   "source": [
    "# 📝 Robust Chest X-ray Reader & Preprocessing"
   ]
  },
  {
   "cell_type": "markdown",
   "id": "9e9be9d7",
   "metadata": {},
   "source": [
    "### This block defines utility functions for reading and preprocessing chest X-rays from different formats (JPG, PNG, and DICOM)."
   ]
  },
  {
   "cell_type": "code",
   "execution_count": 10,
   "id": "f65bd31d",
   "metadata": {},
   "outputs": [],
   "source": [
    "# Robust CXR reader\n",
    "import numpy as np\n",
    "\n",
    "def read_cxr_u8(path: str)-> np.ndarray:\n",
    " \"\"\"Return uint8 grayscale image. Trims borders slightly to remove rulers/\n",
    " markers.\"\"\"\n",
    " ext = os.path.splitext(path)[-1].lower()\n",
    " if ext in {'.dcm', '.dicom'}:\n",
    "  d = pydicom.dcmread(path)\n",
    "  pix = d.pixel_array.astype(np.float32)\n",
    "  try:\n",
    "   pix = apply_voi_lut(pix, d).astype(np.float32)\n",
    "  except Exception:\n",
    "   pass\n",
    "  slope = float(getattr(d, 'RescaleSlope', 1.0))\n",
    "  inter = float(getattr(d, 'RescaleIntercept', 0.0))\n",
    "  pix = pix * slope + inter\n",
    "  if getattr(d, 'PhotometricInterpretation', '').upper() == 'MONOCHROME1':\n",
    "   pix = np.max(pix)- pix\n",
    "  pix-= pix.min()\n",
    "  pix = (pix / (pix.max() + 1e-8) * 255.0).astype(np.uint8)\n",
    " else:\n",
    "  pix = io.imread(path)\n",
    "  if pix.ndim == 3:\n",
    "   pix = pix.mean(2)\n",
    "  if pix.dtype != np.uint8:\n",
    "   pix = exposure.rescale_intensity(pix, out_range=(0,\n",
    "   255)).astype(np.uint8)\n",
    " h, w = pix.shape\n",
    " c = int(0.02 * min(h, w))\n",
    " if h > 2*c and w > 2*c:\n",
    "  pix = pix[c:h-c, c:w-c]\n",
    " return pix\n",
    "\n",
    "# Convert to 3ch tensor for ResNet (replicate grayscale)\n",
    "_to_resnet = transforms.Compose([\n",
    " transforms.ToPILImage(),\n",
    " transforms.Resize((224, 224)),\n",
    " transforms.ToTensor(),\n",
    " transforms.Normalize(mean=[0.485,0.456,0.406], std=[0.229,0.224,0.225])\n",
    "])\n",
    "\n",
    "def img_to_tensor3(img_u8: np.ndarray)-> torch.Tensor:\n",
    " if img_u8.ndim == 2:\n",
    "  img_u8 = np.stack([img_u8]*3, axis=-1)\n",
    " return _to_resnet(img_u8)\n"
   ]
  },
  {
   "cell_type": "markdown",
   "id": "65bd7eea",
   "metadata": {},
   "source": [
    "# 📝 Load Chest X-ray Classifier (ResNet18)"
   ]
  },
  {
   "cell_type": "markdown",
   "id": "d9020727",
   "metadata": {},
   "source": [
    "### This block defines and loads a ResNet18 classifier for detecting chest conditions (e.g., Normal vs Pneumonia)."
   ]
  },
  {
   "cell_type": "code",
   "execution_count": 11,
   "id": "70413dee",
   "metadata": {},
   "outputs": [],
   "source": [
    "# Load classifier (ResNet18) & flexible state dict loader\n",
    "def load_resnet18(weights_path: str, num_classes=2):\n",
    " model = models.resnet18(weights=models.ResNet18_Weights.IMAGENET1K_V1)\n",
    " in_feats = model.fc.in_features\n",
    " model.fc = nn.Sequential(\n",
    " nn.Dropout(0.2),\n",
    " nn.Linear(in_feats, num_classes)\n",
    " )\n",
    " sd = torch.load(weights_path, map_location=DEVICE)\n",
    " if isinstance(sd, dict) and 'state_dict' in sd:\n",
    "  model.load_state_dict(sd['state_dict'], strict=False)\n",
    " else:\n",
    "  model.load_state_dict(sd, strict=False)\n",
    " model.eval().to(DEVICE)\n",
    " return model\n",
    "\n",
    "XMODEL_PATH = os.path.join(ART_DIR, 'xray_model.pth') # ensure this exists\n",
    "clf = load_resnet18(XMODEL_PATH, num_classes=2)\n"
   ]
  },
  {
   "cell_type": "markdown",
   "id": "ae45c2de",
   "metadata": {},
   "source": [
    "# 📝 Temperature Scaling & Prediction with TTA"
   ]
  },
  {
   "cell_type": "markdown",
   "id": "7ca5f890",
   "metadata": {},
   "source": [
    "### This block improves prediction reliability with temperature scaling and makes predictions more robust using test-time augmentation."
   ]
  },
  {
   "cell_type": "code",
   "execution_count": 12,
   "id": "2868d492",
   "metadata": {},
   "outputs": [],
   "source": [
    "# Temperature scaling calibrator --\n",
    "class _TempScaler(nn.Module):\n",
    " def __init__(self, T=1.0):\n",
    "  super().__init__()\n",
    "  self.logT = nn.Parameter(torch.tensor(math.log(T), dtype=torch.float32))\n",
    "\n",
    " def forward(self, logits):\n",
    "  T = torch.exp(self.logT)\n",
    "  return logits / T\n",
    "\n",
    "\n",
    "CAL_PATH = os.path.join(ART_DIR, 'xray_temp.pt')\n",
    "\n",
    "def fit_temperature(model, val_dir: str, max_iter=500, lr=0.01)-> float:\n",
    " \"\"\"Fits temperature on validation set to minimize NLL.\"\"\"\n",
    " model.eval()\n",
    " scaler = _TempScaler(1.0).to(DEVICE)\n",
    " opt = torch.optim.LBFGS(list(scaler.parameters()), lr=lr, max_iter=max_iter)\n",
    "\n",
    " imgs, labels = [], []\n",
    " for cls_idx, cls in enumerate(CLASS_NAMES):\n",
    "  for p in glob.glob(os.path.join(val_dir, cls, '*')):\n",
    "   try:\n",
    "    u8 = read_cxr_u8(p)\n",
    "    t = img_to_tensor3(u8)\n",
    "    imgs.append(t)\n",
    "    labels.append(cls_idx)\n",
    "   except Exception:\n",
    "    pass\n",
    "\n",
    " if not imgs:\n",
    "  raise RuntimeError('Validation set empty or unreadable')\n",
    "\n",
    " X = torch.stack(imgs).to(DEVICE)\n",
    " y = torch.tensor(labels, dtype=torch.long, device=DEVICE)\n",
    "\n",
    " with torch.no_grad():\n",
    "  logits = model(X)\n",
    "\n",
    " ce = nn.CrossEntropyLoss()\n",
    "\n",
    " def closure():\n",
    "  opt.zero_grad()\n",
    "  loss = ce(scaler(logits), y)\n",
    "  loss.backward()\n",
    "  return loss\n",
    "\n",
    " opt.step(closure)\n",
    " T = float(torch.exp(scaler.logT).item())\n",
    " torch.save({'T': T}, CAL_PATH)\n",
    " return T\n",
    "\n",
    "\n",
    "# Load or fit temperature\n",
    "if os.path.exists(CAL_PATH):\n",
    " T = torch.load(CAL_PATH, map_location='cpu')['T']\n",
    "else:\n",
    " VAL_DIR = os.path.join(DATA_DIR, 'Xray', 'val')\n",
    " T = fit_temperature(clf, VAL_DIR)\n",
    " print(f\"Temperature T = {T:.3f}\")\n",
    "\n",
    "\n",
    "# Helper to apply T and predict with TTA\n",
    "from PIL import Image\n",
    "\n",
    "def predict_binary(image_path: str)-> Tuple[int, float, List[float]]:\n",
    " u8 = read_cxr_u8(image_path)\n",
    " t1 = img_to_tensor3(u8)\n",
    " t2 = img_to_tensor3(u8[:, ::-1].copy()) \n",
    " X = torch.stack([t1, t2]).to(DEVICE)\n",
    " with torch.no_grad():\n",
    "  logits = clf(X)\n",
    "  logits = logits.mean(0, keepdim=True)\n",
    "  logits = logits / T\n",
    "  probs = torch.softmax(logits, dim=1).cpu().numpy()[0]\n",
    "  pred = int(probs.argmax())\n",
    " return pred, float(probs[pred]), probs.tolist()\n"
   ]
  },
  {
   "cell_type": "code",
   "execution_count": 13,
   "id": "077062cc",
   "metadata": {},
   "outputs": [
    {
     "name": "stdout",
     "output_type": "stream",
     "text": [
      "              precision    recall  f1-score   support\n",
      "\n",
      "      NORMAL       0.00      0.00      0.00         4\n",
      "   PNEUMONIA       0.43      1.00      0.60         3\n",
      "\n",
      "    accuracy                           0.43         7\n",
      "   macro avg       0.21      0.50      0.30         7\n",
      "weighted avg       0.18      0.43      0.26         7\n",
      "\n",
      "[[0 4]\n",
      " [0 3]]\n"
     ]
    },
    {
     "name": "stderr",
     "output_type": "stream",
     "text": [
      "C:\\Users\\mahin\\AppData\\Local\\Packages\\PythonSoftwareFoundation.Python.3.11_qbz5n2kfra8p0\\LocalCache\\local-packages\\Python311\\site-packages\\sklearn\\metrics\\_classification.py:1731: UndefinedMetricWarning: Precision is ill-defined and being set to 0.0 in labels with no predicted samples. Use `zero_division` parameter to control this behavior.\n",
      "  _warn_prf(average, modifier, f\"{metric.capitalize()} is\", result.shape[0])\n",
      "C:\\Users\\mahin\\AppData\\Local\\Packages\\PythonSoftwareFoundation.Python.3.11_qbz5n2kfra8p0\\LocalCache\\local-packages\\Python311\\site-packages\\sklearn\\metrics\\_classification.py:1731: UndefinedMetricWarning: Precision is ill-defined and being set to 0.0 in labels with no predicted samples. Use `zero_division` parameter to control this behavior.\n",
      "  _warn_prf(average, modifier, f\"{metric.capitalize()} is\", result.shape[0])\n",
      "C:\\Users\\mahin\\AppData\\Local\\Packages\\PythonSoftwareFoundation.Python.3.11_qbz5n2kfra8p0\\LocalCache\\local-packages\\Python311\\site-packages\\sklearn\\metrics\\_classification.py:1731: UndefinedMetricWarning: Precision is ill-defined and being set to 0.0 in labels with no predicted samples. Use `zero_division` parameter to control this behavior.\n",
      "  _warn_prf(average, modifier, f\"{metric.capitalize()} is\", result.shape[0])\n"
     ]
    }
   ],
   "source": [
    "# Evaluate on a folder (val)\n",
    "VAL_DIR = os.path.join(DATA_DIR, 'Xray', 'val')\n",
    "all_y, all_p, all_paths = [], [], []\n",
    "\n",
    "for cls_idx, cls in enumerate(CLASS_NAMES):\n",
    " folder = os.path.join(VAL_DIR, cls)\n",
    " for p in glob.glob(os.path.join(folder, '*')):\n",
    "  try:\n",
    "   pred, conf, _ = predict_binary(p)\n",
    "   all_y.append(cls_idx)\n",
    "   all_p.append(pred)\n",
    "   all_paths.append(p)\n",
    "  except Exception:\n",
    "   pass\n",
    "\n",
    "print(classification_report(all_y, all_p, target_names=CLASS_NAMES))\n",
    "print(confusion_matrix(all_y, all_p))\n"
   ]
  },
  {
   "cell_type": "markdown",
   "id": "306284c6",
   "metadata": {},
   "source": [
    "# 📝 Decision Helper & Quick Test"
   ]
  },
  {
   "cell_type": "code",
   "execution_count": 15,
   "id": "c8d3fc98",
   "metadata": {},
   "outputs": [
    {
     "name": "stdout",
     "output_type": "stream",
     "text": [
      "D:\\\\MedicalAI-Assistant\\data\\Xray\\val\\NORMAL\\person1947_bacteria_4876.jpeg \n",
      " Prediction: PNEUMONIA (confidence 0.55)\n"
     ]
    }
   ],
   "source": [
    "# Decision helper --\n",
    "UNCERTAIN_THRESH = 0.55 # after temperature scaling, 0.55 is a sane default\n",
    "\n",
    "def decision_text(pred_idx: int, conf: float)-> str:\n",
    " label = CLASS_NAMES[pred_idx]\n",
    " if conf < UNCERTAIN_THRESH:\n",
    "  return f\"Normal — No {label} (confidence {conf:.2f}). Doesn't need clinical correlation.\"\n",
    " else:\n",
    "  return f\"Prediction: {label} (confidence {conf:.2f})\"\n",
    "\n",
    "\n",
    "# Quick test on one image\n",
    "sample = os.path.join(DATA_DIR, 'Xray', 'val', 'NORMAL')\n",
    "try:\n",
    " one = glob.glob(os.path.join(sample, '*'))[0]\n",
    " pi, cf, _ = predict_binary(one)\n",
    " print(one, '\\n', decision_text(pi, cf))\n",
    "except Exception as e:\n",
    " print('Sample test skipped:', e)\n"
   ]
  }
 ],
 "metadata": {
  "kernelspec": {
   "display_name": "Python 3",
   "language": "python",
   "name": "python3"
  },
  "language_info": {
   "codemirror_mode": {
    "name": "ipython",
    "version": 3
   },
   "file_extension": ".py",
   "mimetype": "text/x-python",
   "name": "python",
   "nbconvert_exporter": "python",
   "pygments_lexer": "ipython3",
   "version": "3.11.9"
  }
 },
 "nbformat": 4,
 "nbformat_minor": 5
}
